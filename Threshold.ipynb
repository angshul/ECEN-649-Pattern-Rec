{
 "cells": [
  {
   "cell_type": "markdown",
   "metadata": {},
   "source": [
    "# Pattern Recognition Project"
   ]
  },
  {
   "cell_type": "code",
   "execution_count": 1,
   "metadata": {},
   "outputs": [],
   "source": [
    "%matplotlib inline\n",
    "\n",
    "import os\n",
    "import tarfile\n",
    "import shutil\n",
    "import hashlib\n",
    "import glob\n",
    "import random\n",
    "from datetime import datetime\n",
    "from typing import *\n",
    "\n",
    "\n",
    "import requests\n",
    "from joblib import Parallel, delayed\n",
    "from pathlib import Path\n",
    "from PIL import Image, ImageOps\n",
    "import numpy as np\n",
    "from sklearn.metrics import *\n",
    "import seaborn as sns\n",
    "\n",
    "import matplotlib.pyplot as plt\n",
    "import seaborn as sns\n"
   ]
  },
  {
   "cell_type": "code",
   "execution_count": 2,
   "metadata": {},
   "outputs": [],
   "source": [
    "def image_to_array(img: Image.Image):\n",
    "    return np.array(img).astype(np.float32) / 255.\n",
    "\n",
    "def integral_image(img: np.ndarray):\n",
    "    integral = np.cumsum(np.cumsum(img, axis=0), axis=1)\n",
    "    return np.pad(integral, (1, 1), 'constant', constant_values=(0, 0))[:-1, :-1]"
   ]
  },
  {
   "cell_type": "code",
   "execution_count": 4,
   "metadata": {},
   "outputs": [],
   "source": [
    "data_dir=\"C:\\\\Users\\\\ANGSHUL\\\\Downloads\\\\dataset\"\n",
    "train_data_dir=os.path.join(data_dir,\"trainset\")\n",
    "train_faces=os.path.join(train_data_dir,\"faces\")\n",
    "train_non_faces=os.path.join(train_data_dir,\"non-faces\")"
   ]
  },
  {
   "cell_type": "code",
   "execution_count": 5,
   "metadata": {},
   "outputs": [
    {
     "data": {
      "text/plain": [
       "499"
      ]
     },
     "execution_count": 5,
     "metadata": {},
     "output_type": "execute_result"
    }
   ],
   "source": [
    "face_image_files = glob.glob(os.path.join(train_faces, '**', '*.png'), recursive=True)\n",
    "len(face_image_files)"
   ]
  },
  {
   "cell_type": "code",
   "execution_count": 6,
   "metadata": {},
   "outputs": [
    {
     "data": {
      "text/plain": [
       "2000"
      ]
     },
     "execution_count": 6,
     "metadata": {},
     "output_type": "execute_result"
    }
   ],
   "source": [
    "background_image_files=glob.glob(os.path.join(train_non_faces, '**', '*.png'), recursive=True)\n",
    "len(background_image_files)"
   ]
  },
  {
   "cell_type": "code",
   "execution_count": 7,
   "metadata": {},
   "outputs": [],
   "source": [
    "WINDOW_SIZE=19"
   ]
  },
  {
   "cell_type": "code",
   "execution_count": 13,
   "metadata": {},
   "outputs": [],
   "source": [
    "class Feature:\n",
    "    def __init__(self, x: int, y: int, width: int, height: int):\n",
    "        self.x = x\n",
    "        self.y = y\n",
    "        self.width = width\n",
    "        self.height = height\n",
    "        \n",
    "    def __call__(self, integral_image: np.ndarray) -> float:\n",
    "        try:\n",
    "            return np.sum(np.multiply(integral_image[self.y_pos, self.x_pos], self.coeffs))\n",
    "        except IndexError as e:\n",
    "            raise IndexError(str(e) + ' in ' + str(self))\n",
    "    \n",
    "    def __repr__(self):\n",
    "        return f'{self.__class__.__name__}(x={self.x}, y={self.y}, width={self.width}, height={self.height})' "
   ]
  },
  {
   "cell_type": "markdown",
   "metadata": {},
   "source": [
    "With this base class we can define our features:"
   ]
  },
  {
   "cell_type": "code",
   "execution_count": 14,
   "metadata": {},
   "outputs": [],
   "source": [
    "class Feature2h(Feature):\n",
    "    def __init__(self, x: int, y: int, width: int, height: int):\n",
    "        super().__init__(x, y, width, height)\n",
    "        hw = width // 2\n",
    "        self.x_pos = [x,      x + hw,     x,          x + hw,\n",
    "                         x + hw, x + width,  x + hw,     x + width]\n",
    "        self.y_pos = [y,      y,          y + height, y + height,\n",
    "                         y,      y,          y + height, y + height]\n",
    "        self.coeffs   = [1,     -1,         -1,          1,\n",
    "                         -1,     1,          1,         -1]"
   ]
  },
  {
   "cell_type": "code",
   "execution_count": 15,
   "metadata": {},
   "outputs": [],
   "source": [
    "class Feature2v(Feature):\n",
    "    def __init__(self, x: int, y: int, width: int, height: int):\n",
    "        super().__init__(x, y, width, height)\n",
    "        hh = height // 2        \n",
    "        self.x_pos = [x,      x + width,  x,          x + width,\n",
    "                         x,      x + width,  x,          x + width]\n",
    "        self.y_pos = [y,      y,          y + hh,     y + hh,\n",
    "                         y + hh, y + hh,     y + height, y + height]\n",
    "        self.coeffs   = [-1,     1,          1,         -1,\n",
    "                         1,     -1,         -1,          1]"
   ]
  },
  {
   "cell_type": "code",
   "execution_count": 16,
   "metadata": {},
   "outputs": [],
   "source": [
    "class Feature3h(Feature):\n",
    "    def __init__(self, x: int, y: int, width: int, height: int):\n",
    "        super().__init__(x, y, width, height)\n",
    "        tw = width // 3\n",
    "        self.x_pos = [x,        x + tw,    x,          x + tw,\n",
    "                         x + tw,   x + 2*tw,  x + tw,     x + 2*tw,\n",
    "                         x + 2*tw, x + width, x + 2*tw,   x + width]\n",
    "        self.y_pos = [y,        y,         y + height, y + height,\n",
    "                         y,        y,         y + height, y + height,\n",
    "                         y,        y,         y + height, y + height]\n",
    "        self.coeffs   = [-1,       1,         1,         -1,\n",
    "                          1,      -1,        -1,          1,\n",
    "                         -1,       1,         1,         -1]"
   ]
  },
  {
   "cell_type": "code",
   "execution_count": 17,
   "metadata": {},
   "outputs": [],
   "source": [
    "class Feature3v(Feature):\n",
    "    def __init__(self, x: int, y: int, width: int, height: int):\n",
    "        super().__init__(x, y, width, height)\n",
    "        th = height // 3\n",
    "        self.x_pos = [x,        x + width,  x,          x + width,\n",
    "                         x,        x + width,  x,          x + width,\n",
    "                         x,        x + width,  x,          x + width]\n",
    "        self.y_pos = [y,        y,          y + th,     y + th,\n",
    "                         y + th,   y + th,     y + 2*th,   y + 2*th,\n",
    "                         y + 2*th, y + 2*th,   y + height, y + height]\n",
    "        self.coeffs   = [-1,        1,         1,         -1,\n",
    "                          1,       -1,        -1,          1,\n",
    "                         -1,        1,         1,         -1]"
   ]
  },
  {
   "cell_type": "code",
   "execution_count": 18,
   "metadata": {},
   "outputs": [],
   "source": [
    "class Feature4(Feature):\n",
    "    def __init__(self, x: int, y: int, width: int, height: int):\n",
    "        super().__init__(x, y, width, height)\n",
    "        hw = width // 2\n",
    "        hh = height // 2\n",
    "        self.x_pos = [x,      x + hw,     x,          x + hw,     # upper row\n",
    "                         x + hw, x + width,  x + hw,     x + width,\n",
    "                         x,      x + hw,     x,          x + hw,     # lower row\n",
    "                         x + hw, x + width,  x + hw,     x + width]\n",
    "        self.y_pos = [y,      y,          y + hh,     y + hh,     # upper row\n",
    "                         y,      y,          y + hh,     y + hh,\n",
    "                         y + hh, y + hh,     y + height, y + height, # lower row\n",
    "                         y + hh, y + hh,     y + height, y + height]\n",
    "        self.coeffs   = [1,     -1,         -1,          1,          # upper row\n",
    "                         -1,     1,          1,         -1,\n",
    "                         -1,     1,          1,         -1,          # lower row\n",
    "                          1,    -1,         -1,          1]"
   ]
  },
  {
   "cell_type": "code",
   "execution_count": 20,
   "metadata": {},
   "outputs": [],
   "source": [
    "Size = NamedTuple('Size', [('height', int), ('width', int)])\n",
    "Location = NamedTuple('Location', [('top', int), ('left', int)])\n",
    "\n",
    "\n",
    "def get_positions(base_shape: Size, window_size: int = WINDOW_SIZE):\n",
    "    return (Location(left=x, top=y)\n",
    "            for x in range(0, window_size-base_shape.width+1) \n",
    "            for y in range(0, window_size-base_shape.height+1))\n",
    "\n",
    "def get_shapes(base_shape: Size, window_size: int = WINDOW_SIZE):\n",
    "    base_height = base_shape.height\n",
    "    base_width = base_shape.width\n",
    "    return (Size(height=height, width=width)\n",
    "            for width in range(base_width, window_size + 1, base_width)\n",
    "            for height in range(base_height, window_size + 1, base_height))"
   ]
  },
  {
   "cell_type": "markdown",
   "metadata": {},
   "source": [
    "We can instantiate all possible shapes of the feature:"
   ]
  },
  {
   "cell_type": "code",
   "execution_count": 21,
   "metadata": {},
   "outputs": [
    {
     "name": "stdout",
     "output_type": "stream",
     "text": [
      "Number of feature2h features: 17100\n",
      "Number of feature2v features: 17100\n",
      "Number of feature3h features: 10830\n",
      "Number of feature3v features: 10830\n",
      "Number of feature4 features:  8100\n",
      "Total number of features:     63960\n"
     ]
    }
   ],
   "source": [
    "feature2h = list(Feature2h(location.left, location.top, shape.width, shape.height)\n",
    "                 for shape in get_shapes(Size(height=1, width=2), WINDOW_SIZE)\n",
    "                 for location in get_positions(shape, WINDOW_SIZE))\n",
    "\n",
    "feature2v = list(Feature2v(location.left, location.top, shape.width, shape.height)\n",
    "                 for shape in get_shapes(Size(height=2, width=1), WINDOW_SIZE)\n",
    "                 for location in get_positions(shape, WINDOW_SIZE))\n",
    "\n",
    "feature3h = list(Feature3h(location.left, location.top, shape.width, shape.height)\n",
    "                 for shape in get_shapes(Size(height=1, width=3), WINDOW_SIZE)\n",
    "                 for location in get_positions(shape, WINDOW_SIZE))\n",
    "\n",
    "feature3v = list(Feature3v(location.left, location.top, shape.width, shape.height)\n",
    "                 for shape in get_shapes(Size(height=3, width=1), WINDOW_SIZE)\n",
    "                 for location in get_positions(shape, WINDOW_SIZE))\n",
    "\n",
    "feature4  = list(Feature4(location.left, location.top, shape.width, shape.height)\n",
    "                 for shape in get_shapes(Size(height=2, width=2), WINDOW_SIZE)\n",
    "                 for location in get_positions(shape, WINDOW_SIZE))\n",
    "\n",
    "features = feature2h + feature2v + feature3h + feature3v + feature4\n",
    "\n",
    "print(f'Number of feature2h features: {len(feature2h)}')\n",
    "print(f'Number of feature2v features: {len(feature2v)}')\n",
    "print(f'Number of feature3h features: {len(feature3h)}')\n",
    "print(f'Number of feature3v features: {len(feature3v)}')\n",
    "print(f'Number of feature4 features:  {len(feature4)}')\n",
    "print(f'Total number of features:     {len(features)}')"
   ]
  },
  {
   "cell_type": "code",
   "execution_count": 22,
   "metadata": {},
   "outputs": [],
   "source": [
    "def build_data(p: int, n: int, face_files, background_files):\n",
    "    xs = []\n",
    "    xs.extend([image_to_array(Image.open(f).convert('L')) for f in random.sample(face_image_files, p)])\n",
    "    xs.extend([image_to_array(Image.open(f).convert('L')) for f in np.random.choice(background_image_files, n, replace=True)])\n",
    "    ys = np.hstack([np.ones((p,)), np.zeros((n,))])\n",
    "    return np.array(xs), ys"
   ]
  },
  {
   "cell_type": "code",
   "execution_count": 23,
   "metadata": {},
   "outputs": [
    {
     "name": "stdout",
     "output_type": "stream",
     "text": [
      "Sample mean: 0.47778645157814026, standard deviation: 0.22844739258289337\n"
     ]
    }
   ],
   "source": [
    "image_samples, _ = build_data(499, 2000, face_image_files, background_image_files)\n",
    "\n",
    "sample_mean = image_samples.mean()\n",
    "sample_std = image_samples.std()\n",
    "del image_samples"
   ]
  },
  {
   "cell_type": "code",
   "execution_count": 24,
   "metadata": {},
   "outputs": [],
   "source": [
    "def normalize(p: int, n: int, face_files, background_files, mean: float = sample_mean, std: float = sample_std):\n",
    "    xs, ys = build_data(p, n, face_files, background_files)\n",
    "    xs=(xs-mean)/std\n",
    "    return xs, ys\n"
   ]
  },
  {
   "cell_type": "code",
   "execution_count": null,
   "metadata": {},
   "outputs": [],
   "source": [
    "xs, ys = normalize(499, 2000, face_image_files, background_image_files)\n",
    "\n",
    "xis = np.array([integral_image(x) for x in xs])"
   ]
  },
  {
   "cell_type": "code",
   "execution_count": null,
   "metadata": {},
   "outputs": [],
   "source": [
    "Threshold = NamedTuple('Threshold', [('threshold', float), ('polarity', float)])\n",
    "\n",
    "ClassifierResult = NamedTuple('ClassifierResult', [('threshold', float), ('polarity', int), \n",
    "                                                   ('classification_error', float),\n",
    "                                                   ('classifier', Callable[[np.ndarray], float])])\n",
    "\n",
    "WeakClassifier = NamedTuple('WeakClassifier', [('threshold', float), ('polarity', int), \n",
    "                                               ('alpha', float), \n",
    "                                               ('classifier', Callable[[np.ndarray], float])])"
   ]
  },
  {
   "cell_type": "code",
   "execution_count": 33,
   "metadata": {},
   "outputs": [],
   "source": [
    "def get_weak_classifier(x: np.ndarray, classifier: WeakClassifier) -> float:\n",
    "    polarity=classifier.polarity\n",
    "    theta=classifier.threshold\n",
    "    feature=classifier.classifier\n",
    "    return (np.sign((polarity * theta) - (polarity * feature(x))) + 1) // 2\n",
    "\n",
    "def create_strong_classifier(x: np.ndarray, weak_classifiers: List[WeakClassifier]) -> int:\n",
    "    sum_hypotheses = 0.\n",
    "    sum_alphas = 0.\n",
    "    for c in weak_classifiers:\n",
    "        sum_hypotheses += c.alpha * get_weak_classifier(x, c)\n",
    "        sum_alphas += c.alpha\n",
    "    return 1 if (sum_hypotheses >= .5*sum_alphas) else 0"
   ]
  },
  {
   "cell_type": "code",
   "execution_count": null,
   "metadata": {},
   "outputs": [],
   "source": [
    "def normalize_weights(w: np.ndarray) -> np.ndarray:\n",
    "    return w / w.sum()\n",
    "\n",
    "\n",
    "def get_threshold(ys: np.ndarray, ws: np.ndarray, zs: np.ndarray):  \n",
    "    # Sort according to score\n",
    "    p = np.argsort(zs)\n",
    "    zs, ys, ws = zs[p], ys[p], ws[p]\n",
    "    \n",
    "    # Determine the best threshold: build running sums\n",
    "    s_minus, s_plus = 0., 0.\n",
    "    t_minus, t_plus = 0., 0.\n",
    "    s_minuses, s_pluses = [], []\n",
    "    \n",
    "    for y, w in zip(ys, ws):\n",
    "        if y < .6:\n",
    "            s_minus += w\n",
    "            t_minus += w\n",
    "        else:\n",
    "            s_plus += w\n",
    "            t_plus += w\n",
    "        s_minuses.append(s_minus)\n",
    "        s_pluses.append(s_plus)\n",
    "    \n",
    "    # Determine the best threshold: select optimal threshold.\n",
    "    min_e = float('inf')\n",
    "    min_z=0 \n",
    "    polarity=0\n",
    "    for z, s_m, s_p in zip(zs, s_minuses, s_pluses):\n",
    "        error_1 = s_p + (t_minus - s_m)\n",
    "        error_2 = s_m + (t_plus - s_p)\n",
    "        if error_1 < min_e:\n",
    "            min_e = error_1\n",
    "            min_z = z\n",
    "            polarity = -1\n",
    "        elif error_2 < min_e:\n",
    "            min_e = error_2\n",
    "            min_z = z\n",
    "            polarity = 1\n",
    "    return Threshold(threshold=min_z, polarity=polarity)"
   ]
  },
  {
   "cell_type": "code",
   "execution_count": 34,
   "metadata": {},
   "outputs": [],
   "source": [
    "def create_features(f: Feature, xis: np.ndarray, ys: np.ndarray, ws: np.ndarray, parallel: Optional[Parallel] = None) -> ClassifierResult:   \n",
    "    if parallel is None:\n",
    "        parallel = Parallel(n_jobs=-1, backend='threading')\n",
    "    \n",
    "    # Determine all feature values\n",
    "    zs = np.array(parallel(delayed(f)(x) for x in xis))\n",
    "    \n",
    "    # Determine the best threshold\n",
    "    result = get_threshold(ys, ws, zs)\n",
    "            \n",
    "    # Determine the classification error\n",
    "    classification_error = 0.\n",
    "    for x, y, w in zip(xis, ys, ws):\n",
    "        h = (np.sign((result.polarity *result.threshold) - (result.polarity * f(x))) + 1) // 2\n",
    "        classification_error += w * np.abs(h - y)\n",
    "            \n",
    "    return ClassifierResult(threshold=result.threshold, polarity=result.polarity, \n",
    "                            classification_error=classification_error, classifier=f)"
   ]
  },
  {
   "cell_type": "code",
   "execution_count": 38,
   "metadata": {},
   "outputs": [],
   "source": [
    "status_check= 2000\n",
    "random_prob = 0.25\n",
    "\n",
    "def build_weak_classifiers(prefix: str, num_features: int, xis: np.ndarray, ys: np.ndarray, features: List[Feature], ws: Optional[np.ndarray] = None) -> Tuple[List[WeakClassifier], List[float]]:\n",
    "    if ws is None:\n",
    "        m = len(ys[ys < .5])  # number of negative example\n",
    "        l = len(ys[ys > .5])  # number of positive examples\n",
    "\n",
    "        # Initialize the weights\n",
    "        ws = np.zeros_like(ys)\n",
    "        ws[ys < .5] = 1./(2.*m)\n",
    "        ws[ys > .5] = 1./(2.*l)\n",
    "    \n",
    "    # Keep track of the history of the example weights.\n",
    "    w_history = [ws]\n",
    "\n",
    "    total_start_time = datetime.now()\n",
    "    with Parallel(n_jobs=-1, backend='threading') as parallel:\n",
    "        weak_classifiers = []  # type: List[WeakClassifier]\n",
    "        for t in range(num_features):\n",
    "            print(f'Building weak classifier {t+1}/{num_features} ...')\n",
    "            start_time = datetime.now()\n",
    "            \n",
    "            # Normalize the weights\n",
    "            ws = normalize_weights(ws)\n",
    "            \n",
    "            status_counter = status_check\n",
    "\n",
    "            # Select best weak classifier for this round\n",
    "            best = ClassifierResult(polarity=0, threshold=0, classification_error=float('inf'), classifier=None)\n",
    "            for i, f in enumerate(features):\n",
    "                status_counter -= 1\n",
    "                improved = False\n",
    "\n",
    "                # Python runs singlethreaded. To speed things up,\n",
    "                # we're only anticipating every other feature, give or take.\n",
    "                if random_prob < 1.:\n",
    "                    skip_probability = np.random.random()\n",
    "                    if skip_probability > random_prob:\n",
    "                        continue\n",
    "\n",
    "                result = create_features(f, xis, ys, ws, parallel)\n",
    "                if result.classification_error < best.classification_error:\n",
    "                    improved = True\n",
    "                    best = result\n",
    "\n",
    "                # Print status every couple of iterations.\n",
    "                if improved or status_counter == 0:\n",
    "                    current_time = datetime.now()\n",
    "                    duration = current_time - start_time\n",
    "                    total_duration = current_time - total_start_time\n",
    "                    status_counter = status_check\n",
    "                    if improved:\n",
    "                        print(f't={t+1}/{num_features} {total_duration.total_seconds():.2f}s ({duration.total_seconds():.2f}s in this stage) {i+1}/{len(features)} {100*i/len(features):.2f}% evaluated. Classification error improved to {best.classification_error:.5f} using {str(best.classifier)} ...')\n",
    "                    else:\n",
    "                        print(f't={t+1}/{num_features} {total_duration.total_seconds():.2f}s ({duration.total_seconds():.2f}s in this stage) {i+1}/{len(features)} {100*i/len(features):.2f}% evaluated.')\n",
    "\n",
    "            # After the best classifier was found, determine alpha\n",
    "            beta = best.classification_error / (1 - best.classification_error)\n",
    "            alpha = np.log(1. / beta)\n",
    "            \n",
    "            # Build the weak classifier\n",
    "            classifier = WeakClassifier(threshold=best.threshold, polarity=best.polarity, classifier=best.classifier, alpha=alpha)\n",
    "            \n",
    "            # Update the weights for misclassified examples\n",
    "            for i, (x, y) in enumerate(zip(xis, ys)):\n",
    "                h = get_weak_classifier(x, classifier)\n",
    "                e = np.abs(h - y)\n",
    "                ws[i] = ws[i] * np.power(beta, 1-e)\n",
    "                \n",
    "            # Register this weak classifier           \n",
    "            weak_classifiers.append(classifier)\n",
    "            w_history.append(ws)\n",
    "        \n",
    "    \n",
    "    print(f'Done building {num_features} weak classifiers.')\n",
    "    return weak_classifiers, w_history"
   ]
  },
  {
   "cell_type": "code",
   "execution_count": 41,
   "metadata": {},
   "outputs": [
    {
     "name": "stdout",
     "output_type": "stream",
     "text": [
      "Building weak classifier 1/5 ...\n",
      "t=1/5 0.68s (0.68s in this stage) 5/63960 0.01% evaluated. Classification error improved to 0.29056 using Feature2h(x=0, y=4, width=2, height=1) ...\n",
      "t=1/5 23.00s (23.00s in this stage) 104/63960 0.16% evaluated. Classification error improved to 0.23315 using Feature2h(x=5, y=8, width=2, height=1) ...\n",
      "t=1/5 32.37s (32.37s in this stage) 158/63960 0.25% evaluated. Classification error improved to 0.20190 using Feature2h(x=8, y=5, width=2, height=1) ...\n",
      "t=1/5 93.43s (93.43s in this stage) 490/63960 0.76% evaluated. Classification error improved to 0.18037 using Feature2h(x=8, y=3, width=2, height=2) ...\n",
      "t=1/5 261.54s (261.54s in this stage) 1385/63960 2.16% evaluated. Classification error improved to 0.17734 using Feature2h(x=8, y=4, width=2, height=5) ...\n",
      "t=1/5 350.98s (350.98s in this stage) 1891/63960 2.95% evaluated. Classification error improved to 0.16758 using Feature2h(x=8, y=4, width=2, height=7) ...\n",
      "t=1/5 434.32s (434.32s in this stage) 2324/63960 3.63% evaluated. Classification error improved to 0.16410 using Feature2h(x=8, y=3, width=2, height=9) ...\n",
      "t=1/5 474.65s (474.65s in this stage) 2513/63960 3.93% evaluated. Classification error improved to 0.16233 using Feature2h(x=8, y=2, width=2, height=10) ...\n",
      "t=1/5 6492.27s (6492.27s in this stage) 34247/63960 53.54% evaluated. Classification error improved to 0.13029 using Feature3h(x=2, y=8, width=3, height=1) ...\n",
      "t=1/5 6529.26s (6529.26s in this stage) 34456/63960 53.87% evaluated. Classification error improved to 0.10453 using Feature3h(x=13, y=8, width=3, height=1) ...\n",
      "t=1/5 6536.48s (6536.48s in this stage) 34494/63960 53.93% evaluated. Classification error improved to 0.09478 using Feature3h(x=15, y=8, width=3, height=1) ...\n",
      "t=1/5 6599.24s (6599.24s in this stage) 34801/63960 54.41% evaluated. Classification error improved to 0.09379 using Feature3h(x=15, y=7, width=3, height=2) ...\n",
      "t=1/5 6646.80s (6646.80s in this stage) 35075/63960 54.84% evaluated. Classification error improved to 0.09304 using Feature3h(x=14, y=7, width=3, height=3) ...\n",
      "t=1/5 6649.02s (6649.02s in this stage) 35092/63960 54.86% evaluated. Classification error improved to 0.08729 using Feature3h(x=15, y=7, width=3, height=3) ...\n",
      "t=1/5 7082.74s (7082.74s in this stage) 37533/63960 58.68% evaluated. Classification error improved to 0.08679 using Feature3h(x=5, y=7, width=6, height=1) ...\n",
      "t=1/5 10468.68s (10468.68s in this stage) 55853/63960 87.32% evaluated. Classification error improved to 0.08679 using Feature3v(x=0, y=7, width=19, height=12) ...\n"
     ]
    },
    {
     "name": "stderr",
     "output_type": "stream",
     "text": [
      "<ipython-input-33-e47a16af2a40>:6: NumbaWarning: \u001b[1m\n",
      "Compilation is falling back to object mode WITH looplifting enabled because Function \"run_weak_classifier\" failed type inference due to: \u001b[1m\u001b[1mnon-precise type pyobject\u001b[0m\n",
      "\u001b[0m\u001b[1m[1] During: typing of argument at <ipython-input-33-e47a16af2a40> (8)\u001b[0m\n",
      "\u001b[1m\n",
      "File \"<ipython-input-33-e47a16af2a40>\", line 8:\u001b[0m\n",
      "\u001b[1mdef run_weak_classifier(x: np.ndarray, c: WeakClassifier) -> float:\n",
      "\u001b[1m    return weak_classifier(x=x, f=c.classifier, polarity=c.polarity, theta=c.threshold)\n",
      "\u001b[0m    \u001b[1m^\u001b[0m\u001b[0m\n",
      "\u001b[0m\n",
      "  @jit\n",
      "C:\\Users\\redma\\Anaconda3\\lib\\site-packages\\numba\\compiler.py:742: NumbaWarning: \u001b[1mFunction \"run_weak_classifier\" was compiled in object mode without forceobj=True.\n",
      "\u001b[1m\n",
      "File \"<ipython-input-33-e47a16af2a40>\", line 7:\u001b[0m\n",
      "\u001b[1m@jit\n",
      "\u001b[1mdef run_weak_classifier(x: np.ndarray, c: WeakClassifier) -> float:\n",
      "\u001b[0m\u001b[1m^\u001b[0m\u001b[0m\n",
      "\u001b[0m\n",
      "  self.func_ir.loc))\n",
      "C:\\Users\\redma\\Anaconda3\\lib\\site-packages\\numba\\compiler.py:751: NumbaDeprecationWarning: \u001b[1m\n",
      "Fall-back from the nopython compilation path to the object mode compilation path has been detected, this is deprecated behaviour.\n",
      "\n",
      "For more information visit http://numba.pydata.org/numba-doc/latest/reference/deprecation.html#deprecation-of-object-mode-fall-back-behaviour-when-using-jit\n",
      "\u001b[1m\n",
      "File \"<ipython-input-33-e47a16af2a40>\", line 7:\u001b[0m\n",
      "\u001b[1m@jit\n",
      "\u001b[1mdef run_weak_classifier(x: np.ndarray, c: WeakClassifier) -> float:\n",
      "\u001b[0m\u001b[1m^\u001b[0m\u001b[0m\n",
      "\u001b[0m\n",
      "  warnings.warn(errors.NumbaDeprecationWarning(msg, self.func_ir.loc))\n"
     ]
    },
    {
     "name": "stdout",
     "output_type": "stream",
     "text": [
      "Building weak classifier 2/5 ...\n",
      "t=2/5 12013.84s (0.80s in this stage) 3/63960 0.00% evaluated. Classification error improved to 0.33800 using Feature2h(x=0, y=2, width=2, height=1) ...\n",
      "t=2/5 12014.68s (1.64s in this stage) 4/63960 0.00% evaluated. Classification error improved to 0.29656 using Feature2h(x=0, y=3, width=2, height=1) ...\n",
      "t=2/5 12016.30s (3.26s in this stage) 9/63960 0.01% evaluated. Classification error improved to 0.28542 using Feature2h(x=0, y=8, width=2, height=1) ...\n",
      "t=2/5 12031.94s (18.90s in this stage) 107/63960 0.17% evaluated. Classification error improved to 0.28504 using Feature2h(x=5, y=11, width=2, height=1) ...\n",
      "t=2/5 12045.26s (32.22s in this stage) 157/63960 0.24% evaluated. Classification error improved to 0.19752 using Feature2h(x=8, y=4, width=2, height=1) ...\n",
      "t=2/5 12118.43s (105.39s in this stage) 491/63960 0.77% evaluated. Classification error improved to 0.19033 using Feature2h(x=8, y=4, width=2, height=2) ...\n",
      "t=2/5 12392.41s (379.37s in this stage) 1891/63960 2.95% evaluated. Classification error improved to 0.18117 using Feature2h(x=8, y=4, width=2, height=7) ...\n",
      "t=2/5 12443.54s (430.50s in this stage) 2116/63960 3.31% evaluated. Classification error improved to 0.17631 using Feature2h(x=8, y=3, width=2, height=8) ...\n",
      "Building weak classifier 3/5 ...\n",
      "t=3/5 24651.62s (0.75s in this stage) 4/63960 0.00% evaluated. Classification error improved to 0.28520 using Feature2h(x=0, y=3, width=2, height=1) ...\n",
      "t=3/5 24697.00s (46.13s in this stage) 238/63960 0.37% evaluated. Classification error improved to 0.27452 using Feature2h(x=12, y=9, width=2, height=1) ...\n",
      "t=3/5 24723.95s (73.08s in this stage) 360/63960 0.56% evaluated. Classification error improved to 0.24265 using Feature2h(x=0, y=17, width=2, height=2) ...\n",
      "t=3/5 25066.94s (416.07s in this stage) 1946/63960 3.04% evaluated. Classification error improved to 0.24188 using Feature2h(x=12, y=7, width=2, height=7) ...\n",
      "t=3/5 25583.91s (933.04s in this stage) 4468/63960 6.98% evaluated. Classification error improved to 0.23494 using Feature2h(x=11, y=7, width=4, height=4) ...\n",
      "t=3/5 25584.66s (933.80s in this stage) 4469/63960 6.99% evaluated. Classification error improved to 0.21499 using Feature2h(x=11, y=8, width=4, height=4) ...\n",
      "t=3/5 28986.51s (4335.64s in this stage) 20604/63960 32.21% evaluated. Classification error improved to 0.21005 using Feature2v(x=9, y=11, width=3, height=2) ...\n",
      "t=3/5 29354.77s (4703.90s in this stage) 22476/63960 35.14% evaluated. Classification error improved to 0.20419 using Feature2v(x=14, y=3, width=4, height=4) ...\n",
      "t=3/5 29558.39s (4907.52s in this stage) 23538/63960 36.80% evaluated. Classification error improved to 0.20389 using Feature2v(x=7, y=11, width=5, height=2) ...\n",
      "Building weak classifier 4/5 ...\n",
      "t=4/5 37321.02s (0.86s in this stage) 5/63960 0.01% evaluated. Classification error improved to 0.34504 using Feature2h(x=0, y=4, width=2, height=1) ...\n",
      "t=4/5 37322.87s (2.71s in this stage) 28/63960 0.04% evaluated. Classification error improved to 0.34258 using Feature2h(x=1, y=8, width=2, height=1) ...\n",
      "t=4/5 37324.57s (4.41s in this stage) 35/63960 0.05% evaluated. Classification error improved to 0.32641 using Feature2h(x=1, y=15, width=2, height=1) ...\n",
      "t=4/5 37342.92s (22.76s in this stage) 148/63960 0.23% evaluated. Classification error improved to 0.30376 using Feature2h(x=7, y=14, width=2, height=1) ...\n",
      "t=4/5 37358.81s (38.65s in this stage) 238/63960 0.37% evaluated. Classification error improved to 0.27930 using Feature2h(x=12, y=9, width=2, height=1) ...\n",
      "t=4/5 37382.58s (62.43s in this stage) 334/63960 0.52% evaluated. Classification error improved to 0.26075 using Feature2h(x=17, y=10, width=2, height=1) ...\n",
      "t=4/5 37447.44s (127.28s in this stage) 675/63960 1.05% evaluated. Classification error improved to 0.24646 using Feature2h(x=0, y=8, width=2, height=3) ...\n",
      "t=4/5 37506.62s (186.47s in this stage) 980/63960 1.53% evaluated. Classification error improved to 0.24584 using Feature2h(x=0, y=7, width=2, height=4) ...\n",
      "t=4/5 38156.91s (836.75s in this stage) 4225/63960 6.60% evaluated. Classification error improved to 0.23533 using Feature2h(x=12, y=8, width=4, height=3) ...\n",
      "t=4/5 38557.14s (1236.98s in this stage) 6225/63960 9.73% evaluated.\n",
      "t=4/5 38651.63s (1331.47s in this stage) 6679/63960 10.44% evaluated. Classification error improved to 0.23128 using Feature2h(x=11, y=9, width=6, height=1) ...\n",
      "t=4/5 38938.02s (1617.86s in this stage) 8169/63960 12.77% evaluated. Classification error improved to 0.23124 using Feature2h(x=11, y=8, width=6, height=8) ...\n",
      "t=4/5 39320.45s (2000.29s in this stage) 9937/63960 15.53% evaluated. Classification error improved to 0.22440 using Feature2h(x=10, y=8, width=8, height=4) ...\n",
      "t=4/5 39729.11s (2408.95s in this stage) 11937/63960 18.66% evaluated.\n",
      "Building weak classifier 5/5 ...\n",
      "t=5/5 49815.94s (0.81s in this stage) 29/63960 0.04% evaluated. Classification error improved to 0.35524 using Feature2h(x=1, y=9, width=2, height=1) ...\n",
      "t=5/5 49818.70s (3.57s in this stage) 34/63960 0.05% evaluated. Classification error improved to 0.35295 using Feature2h(x=1, y=14, width=2, height=1) ...\n",
      "t=5/5 49819.49s (4.36s in this stage) 37/63960 0.06% evaluated. Classification error improved to 0.35150 using Feature2h(x=1, y=17, width=2, height=1) ...\n",
      "t=5/5 49827.46s (12.33s in this stage) 77/63960 0.12% evaluated. Classification error improved to 0.32290 using Feature2h(x=4, y=0, width=2, height=1) ...\n",
      "t=5/5 49829.04s (13.91s in this stage) 92/63960 0.14% evaluated. Classification error improved to 0.31198 using Feature2h(x=4, y=15, width=2, height=1) ...\n",
      "t=5/5 49874.80s (59.68s in this stage) 335/63960 0.52% evaluated. Classification error improved to 0.29972 using Feature2h(x=17, y=11, width=2, height=1) ...\n",
      "t=5/5 49878.04s (62.92s in this stage) 347/63960 0.54% evaluated. Classification error improved to 0.29334 using Feature2h(x=0, y=4, width=2, height=2) ...\n",
      "t=5/5 49990.82s (175.69s in this stage) 983/63960 1.54% evaluated. Classification error improved to 0.28672 using Feature2h(x=0, y=10, width=2, height=4) ...\n",
      "t=5/5 50146.57s (331.44s in this stage) 1778/63960 2.78% evaluated. Classification error improved to 0.28373 using Feature2h(x=17, y=9, width=2, height=6) ...\n",
      "t=5/5 50574.22s (759.09s in this stage) 3778/63960 5.91% evaluated.\n",
      "t=5/5 51218.77s (1403.64s in this stage) 6759/63960 10.57% evaluated. Classification error improved to 0.25697 using Feature2h(x=1, y=14, width=6, height=2) ...\n",
      "t=5/5 53247.33s (3432.20s in this stage) 17353/63960 27.13% evaluated. Classification error improved to 0.25654 using Feature2v(x=14, y=0, width=1, height=2) ...\n",
      "t=5/5 53570.32s (3755.19s in this stage) 18916/63960 29.57% evaluated. Classification error improved to 0.25469 using Feature2v(x=5, y=15, width=2, height=2) ...\n",
      "t=5/5 53600.78s (3785.65s in this stage) 19045/63960 29.77% evaluated. Classification error improved to 0.24606 using Feature2v(x=13, y=0, width=2, height=2) ...\n",
      "t=5/5 53968.45s (4153.32s in this stage) 21045/63960 32.90% evaluated.\n",
      "t=5/5 54529.37s (4714.24s in this stage) 23617/63960 36.92% evaluated. Classification error improved to 0.24164 using Feature2v(x=12, y=0, width=5, height=2) ...\n",
      "t=5/5 54536.71s (4721.59s in this stage) 23635/63960 36.95% evaluated. Classification error improved to 0.23405 using Feature2v(x=13, y=0, width=5, height=2) ...\n",
      "t=5/5 61628.63s (11813.50s in this stage) 59379/63960 92.84% evaluated. Classification error improved to 0.21987 using Feature4(x=12, y=14, width=6, height=4) ...\n",
      "Done building 5 weak classifiers.\n"
     ]
    }
   ],
   "source": [
    "\n",
    "weak_classifiers_5, w_history = build_weak_classifiers('5 rounds', 5, xis, ys, features)"
   ]
  },
  {
   "cell_type": "code",
   "execution_count": 42,
   "metadata": {},
   "outputs": [
    {
     "data": {
      "text/plain": [
       "[WeakClassifier(threshold=-34.94171142578125, polarity=1, alpha=2.3535240166187434, classifier=Feature3v(x=0, y=7, width=19, height=12)),\n",
       " WeakClassifier(threshold=-1.3389663696289062, polarity=1, alpha=1.5415739225706282, classifier=Feature2h(x=8, y=3, width=2, height=8)),\n",
       " WeakClassifier(threshold=0.9956474304199219, polarity=-1, alpha=1.3621383392395696, classifier=Feature2v(x=7, y=11, width=5, height=2)),\n",
       " WeakClassifier(threshold=-2.0256080627441406, polarity=1, alpha=1.240216739953939, classifier=Feature2h(x=10, y=8, width=8, height=4)),\n",
       " WeakClassifier(threshold=-1.0986175537109375, polarity=1, alpha=1.2664070651570087, classifier=Feature4(x=12, y=14, width=6, height=4))]"
      ]
     },
     "execution_count": 42,
     "metadata": {},
     "output_type": "execute_result"
    }
   ],
   "source": [
    "weak_classifiers_5"
   ]
  },
  {
   "cell_type": "markdown",
   "metadata": {},
   "source": [
    "## Test Case"
   ]
  },
  {
   "cell_type": "code",
   "execution_count": 43,
   "metadata": {},
   "outputs": [],
   "source": [
    "test_data_dir=os.path.join(data_dir,\"testset\")\n",
    "test_faces=os.path.join(test_data_dir,\"faces\")\n",
    "test_non_faces=os.path.join(test_data_dir,\"non-faces\")"
   ]
  },
  {
   "cell_type": "code",
   "execution_count": 44,
   "metadata": {},
   "outputs": [
    {
     "data": {
      "text/plain": [
       "472"
      ]
     },
     "execution_count": 44,
     "metadata": {},
     "output_type": "execute_result"
    }
   ],
   "source": [
    "face_image_files_test = glob.glob(os.path.join(test_faces, '**', '*.png'), recursive=True)\n",
    "len(face_image_files_test)"
   ]
  },
  {
   "cell_type": "code",
   "execution_count": 45,
   "metadata": {},
   "outputs": [
    {
     "data": {
      "text/plain": [
       "2001"
      ]
     },
     "execution_count": 45,
     "metadata": {},
     "output_type": "execute_result"
    }
   ],
   "source": [
    "background_image_files_test=glob.glob(os.path.join(test_non_faces, '**', '*.png'), recursive=True)\n",
    "len(background_image_files_test)"
   ]
  },
  {
   "cell_type": "code",
   "execution_count": 49,
   "metadata": {},
   "outputs": [
    {
     "name": "stdout",
     "output_type": "stream",
     "text": [
      "Sample mean: 0.5171371698379517, standard deviation: 0.235338494181633\n"
     ]
    }
   ],
   "source": [
    "image_samples_test, _ = build_data(471, 2000, face_image_files_test, background_image_files_test)\n",
    "\n",
    "sample_mean = image_samples_test.mean()\n",
    "sample_std = image_samples_test.std()\n",
    "\n",
    "\n",
    "print(f'Sample mean: {sample_mean}, standard deviation: {sample_std}')"
   ]
  },
  {
   "cell_type": "code",
   "execution_count": 50,
   "metadata": {},
   "outputs": [],
   "source": [
    "test_xs, test_ys = normalize(471, 2000,face_image_files_test, background_image_files_test)\n",
    "test_xis = np.array([integral_image(x) for x in test_xs])"
   ]
  },
  {
   "cell_type": "code",
   "execution_count": null,
   "metadata": {},
   "outputs": [],
   "source": [
    "predicted_scores = NamedTuple('PredictionStats', [('tn', int), ('fp', int), ('fn', int), ('tp', int)])\n",
    "\n",
    "def predict(y_true: np.ndarray, y_pred: np.ndarray) -> Tuple[np.ndarray, predicted_scores]:\n",
    "    c = confusion_matrix(y_true, y_pred)\n",
    "    tn, fp, fn, tp = c.ravel()\n",
    "    return c, predicted_scores(tn=tn, fp=fp, fn=fn, tp=tp)"
   ]
  },
  {
   "cell_type": "code",
   "execution_count": 69,
   "metadata": {},
   "outputs": [
    {
     "name": "stderr",
     "output_type": "stream",
     "text": [
      "<ipython-input-34-886b5b384fd2>:1: NumbaWarning: \u001b[1m\n",
      "Compilation is falling back to object mode WITH looplifting enabled because Function \"strong_classifier\" failed type inference due to: \u001b[1m\u001b[1mnon-precise type pyobject\u001b[0m\n",
      "\u001b[0m\u001b[1m[1] During: typing of argument at <ipython-input-34-886b5b384fd2> (3)\u001b[0m\n",
      "\u001b[1m\n",
      "File \"<ipython-input-34-886b5b384fd2>\", line 3:\u001b[0m\n",
      "\u001b[1mdef strong_classifier(x: np.ndarray, weak_classifiers: List[WeakClassifier]) -> int:\n",
      "\u001b[1m    sum_hypotheses = 0.\n",
      "\u001b[0m    \u001b[1m^\u001b[0m\u001b[0m\n",
      "\u001b[0m\n",
      "  @jit\n",
      "<ipython-input-34-886b5b384fd2>:1: NumbaWarning: \u001b[1m\n",
      "Compilation is falling back to object mode WITHOUT looplifting enabled because Function \"strong_classifier\" failed type inference due to: \u001b[1m\u001b[1mcannot determine Numba type of <class 'numba.dispatcher.LiftedLoop'>\u001b[0m\n",
      "\u001b[1m\n",
      "File \"<ipython-input-34-886b5b384fd2>\", line 5:\u001b[0m\n",
      "\u001b[1mdef strong_classifier(x: np.ndarray, weak_classifiers: List[WeakClassifier]) -> int:\n",
      "    <source elided>\n",
      "    sum_alphas = 0.\n",
      "\u001b[1m    for c in weak_classifiers:\n",
      "\u001b[0m    \u001b[1m^\u001b[0m\u001b[0m\n",
      "\u001b[0m\u001b[0m\n",
      "  @jit\n",
      "C:\\Users\\redma\\Anaconda3\\lib\\site-packages\\numba\\compiler.py:742: NumbaWarning: \u001b[1mFunction \"strong_classifier\" was compiled in object mode without forceobj=True, but has lifted loops.\n",
      "\u001b[1m\n",
      "File \"<ipython-input-34-886b5b384fd2>\", line 2:\u001b[0m\n",
      "\u001b[1m@jit\n",
      "\u001b[1mdef strong_classifier(x: np.ndarray, weak_classifiers: List[WeakClassifier]) -> int:\n",
      "\u001b[0m\u001b[1m^\u001b[0m\u001b[0m\n",
      "\u001b[0m\n",
      "  self.func_ir.loc))\n",
      "C:\\Users\\redma\\Anaconda3\\lib\\site-packages\\numba\\compiler.py:751: NumbaDeprecationWarning: \u001b[1m\n",
      "Fall-back from the nopython compilation path to the object mode compilation path has been detected, this is deprecated behaviour.\n",
      "\n",
      "For more information visit http://numba.pydata.org/numba-doc/latest/reference/deprecation.html#deprecation-of-object-mode-fall-back-behaviour-when-using-jit\n",
      "\u001b[1m\n",
      "File \"<ipython-input-34-886b5b384fd2>\", line 2:\u001b[0m\n",
      "\u001b[1m@jit\n",
      "\u001b[1mdef strong_classifier(x: np.ndarray, weak_classifiers: List[WeakClassifier]) -> int:\n",
      "\u001b[0m\u001b[1m^\u001b[0m\u001b[0m\n",
      "\u001b[0m\n",
      "  warnings.warn(errors.NumbaDeprecationWarning(msg, self.func_ir.loc))\n",
      "<ipython-input-34-886b5b384fd2>:1: NumbaWarning: \u001b[1m\n",
      "Compilation is falling back to object mode WITHOUT looplifting enabled because Function \"strong_classifier\" failed type inference due to: \u001b[1m\u001b[1mnon-precise type pyobject\u001b[0m\n",
      "\u001b[0m\u001b[1m[1] During: typing of argument at <ipython-input-34-886b5b384fd2> (5)\u001b[0m\n",
      "\u001b[1m\n",
      "File \"<ipython-input-34-886b5b384fd2>\", line 5:\u001b[0m\n",
      "\u001b[1mdef strong_classifier(x: np.ndarray, weak_classifiers: List[WeakClassifier]) -> int:\n",
      "    <source elided>\n",
      "    sum_alphas = 0.\n",
      "\u001b[1m    for c in weak_classifiers:\n",
      "\u001b[0m    \u001b[1m^\u001b[0m\u001b[0m\n",
      "\u001b[0m\n",
      "  @jit\n",
      "C:\\Users\\redma\\Anaconda3\\lib\\site-packages\\numba\\compiler.py:742: NumbaWarning: \u001b[1mFunction \"strong_classifier\" was compiled in object mode without forceobj=True.\n",
      "\u001b[1m\n",
      "File \"<ipython-input-34-886b5b384fd2>\", line 5:\u001b[0m\n",
      "\u001b[1mdef strong_classifier(x: np.ndarray, weak_classifiers: List[WeakClassifier]) -> int:\n",
      "    <source elided>\n",
      "    sum_alphas = 0.\n",
      "\u001b[1m    for c in weak_classifiers:\n",
      "\u001b[0m    \u001b[1m^\u001b[0m\u001b[0m\n",
      "\u001b[0m\n",
      "  self.func_ir.loc))\n",
      "C:\\Users\\redma\\Anaconda3\\lib\\site-packages\\numba\\compiler.py:751: NumbaDeprecationWarning: \u001b[1m\n",
      "Fall-back from the nopython compilation path to the object mode compilation path has been detected, this is deprecated behaviour.\n",
      "\n",
      "For more information visit http://numba.pydata.org/numba-doc/latest/reference/deprecation.html#deprecation-of-object-mode-fall-back-behaviour-when-using-jit\n",
      "\u001b[1m\n",
      "File \"<ipython-input-34-886b5b384fd2>\", line 5:\u001b[0m\n",
      "\u001b[1mdef strong_classifier(x: np.ndarray, weak_classifiers: List[WeakClassifier]) -> int:\n",
      "    <source elided>\n",
      "    sum_alphas = 0.\n",
      "\u001b[1m    for c in weak_classifiers:\n",
      "\u001b[0m    \u001b[1m^\u001b[0m\u001b[0m\n",
      "\u001b[0m\n",
      "  warnings.warn(errors.NumbaDeprecationWarning(msg, self.func_ir.loc))\n"
     ]
    },
    {
     "name": "stdout",
     "output_type": "stream",
     "text": [
      "Precision 0.83, accuracy 0.60, recall 0.25, false positive rate 0.05, false negative rate 0.75.\n"
     ]
    },
    {
     "data": {
      "image/png": "[encoded data removed]",
      "text/plain": [
       "<Figure size 432x288 with 2 Axes>"
      ]
     },
     "metadata": {
      "needs_background": "light"
     },
     "output_type": "display_data"
    }
   ],
   "source": [
    "ys_strong = np.array([create_strong_classifier(x, weak_classifiers_5) for x in test_xis])\n",
    "c, s = predict(test_ys, ys_strong)\n",
    "\n",
    "sns.heatmap(c / c.sum(), cmap='YlGnBu', annot=True, square=True, fmt='.1%',\n",
    "            xticklabels=['Predicted negative', 'Predicted positive'], \n",
    "            yticklabels=['Negative', 'Positive'])\n",
    "plt.title(f'Confusion matrix for the strong classifier (stage 2)');\n",
    "\n",
    "print(f'Precision {s.tp/(s.tp+s.fp):.2f}, accuracy {(s.tp+s.tn)/(s.tp+s.tn+s.fp+s.fn):.2f}, recall {s.tp/(s.tp+s.fn):.2f}, false positive rate {s.fp/(s.fp+s.tn):.2f}, false negative rate {s.fn/(s.tp+s.fn):.2f}.')"
   ]
  },
  {
   "cell_type": "code",
   "execution_count": null,
   "metadata": {},
   "outputs": [],
   "source": []
  }
 ],
 "metadata": {
  "kernelspec": {
   "display_name": "Python 3",
   "language": "python",
   "name": "python3"
  },
  "language_info": {
   "codemirror_mode": {
    "name": "ipython",
    "version": 3
   },
   "file_extension": ".py",
   "mimetype": "text/x-python",
   "name": "python",
   "nbconvert_exporter": "python",
   "pygments_lexer": "ipython3",
   "version": "3.6.8"
  }
 },
 "nbformat": 4,
 "nbformat_minor": 2
}
